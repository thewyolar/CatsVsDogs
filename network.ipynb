{
 "nbformat": 4,
 "nbformat_minor": 0,
 "metadata": {
  "colab": {
   "name": "NeuralNetwork1.ipynb",
   "provenance": [],
   "collapsed_sections": [],
   "authorship_tag": "ABX9TyOpdwyRhJwXDmLF8aR0VZSr"
  },
  "kernelspec": {
   "name": "python3",
   "display_name": "Python 3"
  },
  "language_info": {
   "name": "python"
  }
 },
 "cells": [
  {
   "cell_type": "code",
   "execution_count": 60,
   "metadata": {
    "id": "W53-xv5jLW1P",
    "executionInfo": {
     "status": "ok",
     "timestamp": 1657281568685,
     "user_tz": -180,
     "elapsed": 3819,
     "user": {
      "displayName": "Алексей Карабанов",
      "userId": "02494376557827656272"
     }
    },
    "pycharm": {
     "name": "#%%\n"
    }
   },
   "outputs": [],
   "source": [
    "import numpy as np\n",
    "import httplib2\n",
    "import tensorflow as tf\n",
    "import tensorflow_datasets as tfds\n",
    "from tensorflow.python.keras.layers import Dense, GlobalAveragePooling2D, Dropout\n",
    "import matplotlib.pyplot as plt"
   ]
  },
  {
   "cell_type": "code",
   "source": [
    "SIZE = 224"
   ],
   "metadata": {
    "id": "tFixC-kAMkx4",
    "executionInfo": {
     "status": "ok",
     "timestamp": 1657281571690,
     "user_tz": -180,
     "elapsed": 315,
     "user": {
      "displayName": "Алексей Карабанов",
      "userId": "02494376557827656272"
     }
    },
    "pycharm": {
     "name": "#%%\n"
    }
   },
   "execution_count": 61,
   "outputs": []
  },
  {
   "cell_type": "code",
   "source": [
    "setattr(tfds.image_classification.cats_vs_dogs, '_URL',\"https://download.microsoft.com/download/3/E/1/3E1C3F21-ECDB-4869-8368-6DEBA77B919F/kagglecatsanddogs_5340.zip\")\n",
    "train, _ = tfds.load('cats_vs_dogs', split=[\"train[:100%]\"], with_info=True, as_supervised=True)"
   ],
   "metadata": {
    "id": "h7Ky-6A-MzsE",
    "pycharm": {
     "name": "#%%\n"
    }
   },
   "execution_count": 62,
   "outputs": []
  },
  {
   "cell_type": "code",
   "metadata": {
    "id": "dYUIW9bwQ0f-",
    "executionInfo": {
     "status": "ok",
     "timestamp": 1657281612383,
     "user_tz": -180,
     "elapsed": 287,
     "user": {
      "displayName": "Алексей Карабанов",
      "userId": "02494376557827656272"
     }
    },
    "pycharm": {
     "name": "#%%\n"
    }
   },
   "source": [
    "def resize_image(img, label):\n",
    "  img = tf.cast(img, tf.float32)\n",
    "  img = tf.image.resize(img, (SIZE, SIZE))\n",
    "  img = img / 255.0\n",
    "  return img, label"
   ],
   "execution_count": 63,
   "outputs": []
  },
  {
   "cell_type": "code",
   "source": [
    "train_resized = train[0].map(resize_image)\n",
    "train_batches = train_resized.shuffle(1000).batch(16)"
   ],
   "metadata": {
    "id": "Az8ddHboPdCb",
    "executionInfo": {
     "status": "ok",
     "timestamp": 1657281614250,
     "user_tz": -180,
     "elapsed": 258,
     "user": {
      "displayName": "Алексей Карабанов",
      "userId": "02494376557827656272"
     }
    },
    "pycharm": {
     "name": "#%%\n"
    }
   },
   "execution_count": 64,
   "outputs": []
  },
  {
   "cell_type": "code",
   "source": [
    "base_layers = tf.keras.applications.MobileNetV2(input_shape=(SIZE, SIZE, 3), include_top=False)\n",
    "base_layers.trainable = False"
   ],
   "metadata": {
    "id": "_UcpHWnmQ6_o",
    "pycharm": {
     "name": "#%%\n"
    }
   },
   "execution_count": 65,
   "outputs": []
  },
  {
   "cell_type": "code",
   "source": [
    "model = tf.keras.Sequential([\n",
    "                             base_layers,\n",
    "                             GlobalAveragePooling2D(),\n",
    "                             Dropout(0.2),\n",
    "                             Dense(1)\n",
    "])\n",
    "model.compile(optimizer='adam', loss=tf.keras.losses.BinaryCrossentropy(from_logits=True), metrics=['accuracy'])"
   ],
   "metadata": {
    "id": "7t_FVO-4RCaj",
    "executionInfo": {
     "status": "ok",
     "timestamp": 1657281622709,
     "user_tz": -180,
     "elapsed": 679,
     "user": {
      "displayName": "Алексей Карабанов",
      "userId": "02494376557827656272"
     }
    },
    "pycharm": {
     "name": "#%%\n"
    }
   },
   "execution_count": 66,
   "outputs": []
  },
  {
   "cell_type": "code",
   "source": [
    "model.fit(train_batches, epochs=2)"
   ],
   "metadata": {
    "id": "gjpGXkpVQcZb",
    "pycharm": {
     "name": "#%%\n"
    }
   },
   "execution_count": 67,
   "outputs": [
    {
     "name": "stdout",
     "output_type": "stream",
     "text": [
      "Epoch 1/2\n",
      "1454/1454 [==============================] - 366s 250ms/step - loss: 0.0684 - accuracy: 0.9749\n",
      "Epoch 2/2\n",
      "1454/1454 [==============================] - 366s 251ms/step - loss: 0.0459 - accuracy: 0.9832\n"
     ]
    },
    {
     "data": {
      "text/plain": "<keras.callbacks.History at 0x1c3c68fdfc0>"
     },
     "execution_count": 67,
     "metadata": {},
     "output_type": "execute_result"
    }
   ]
  },
  {
   "cell_type": "code",
   "source": [
    "model.save(\"cats_vs_dogs_mnist\")"
   ],
   "metadata": {
    "id": "_U_HsHlyy4_l",
    "executionInfo": {
     "status": "ok",
     "timestamp": 1657284922792,
     "user_tz": -180,
     "elapsed": 268,
     "user": {
      "displayName": "Алексей Карабанов",
      "userId": "02494376557827656272"
     }
    },
    "pycharm": {
     "name": "#%%\n",
     "is_executing": true
    }
   },
   "execution_count": null,
   "outputs": []
  },
  {
   "cell_type": "code",
   "source": [
    "def download_image(link):\n",
    "  h = httplib2.Http('.cache')\n",
    "  response, content = h.request(link)\n",
    "  out = open('test.jpg', 'wb')\n",
    "  out.write(content)\n",
    "  out.close()"
   ],
   "metadata": {
    "id": "nPLVvrGWcECJ",
    "executionInfo": {
     "status": "ok",
     "timestamp": 1657284956322,
     "user_tz": -180,
     "elapsed": 262,
     "user": {
      "displayName": "Алексей Карабанов",
      "userId": "02494376557827656272"
     }
    },
    "pycharm": {
     "name": "#%%\n"
    }
   },
   "execution_count": 69,
   "outputs": []
  },
  {
   "cell_type": "code",
   "execution_count": null,
   "outputs": [],
   "source": [
    "download_image(\"https://wallpapersgood.ru/wallpapers/main2/201733/15028196745993355a46e9b0.25089295.jpg\")\n",
    "img = tf.keras.preprocessing.image.load_img('test.jpg')\n",
    "img_array = tf.keras.preprocessing.image.img_to_array(img)\n",
    "img_resized, _ = resize_image(img_array, _)\n",
    "img_expended = np.expand_dims(img_resized, axis=0)\n",
    "prediction = model.predict(img_expended)[0][0]\n",
    "pred_label = 'КОТ' if prediction < 0.5 else 'СОБАКА'\n",
    "plt.figure()\n",
    "plt.imshow(img)\n",
    "plt.title(f'{pred_label} {prediction}')"
   ],
   "metadata": {
    "collapsed": false,
    "pycharm": {
     "name": "#%%\n",
     "is_executing": true
    }
   }
  },
  {
   "cell_type": "code",
   "execution_count": null,
   "outputs": [],
   "source": [],
   "metadata": {
    "collapsed": false,
    "pycharm": {
     "name": "#%%\n"
    }
   }
  }
 ]
}